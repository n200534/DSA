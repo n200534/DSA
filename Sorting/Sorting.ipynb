{
  "nbformat": 4,
  "nbformat_minor": 0,
  "metadata": {
    "colab": {
      "provenance": []
    },
    "kernelspec": {
      "name": "python3",
      "display_name": "Python 3"
    },
    "language_info": {
      "name": "python"
    }
  },
  "cells": [
    {
      "cell_type": "code",
      "execution_count": null,
      "metadata": {
        "colab": {
          "base_uri": "https://localhost:8080/"
        },
        "id": "hAUrYkDysSzY",
        "outputId": "013d4357-3eeb-442e-badd-9395a5fff80e"
      },
      "outputs": [
        {
          "output_type": "stream",
          "name": "stdout",
          "text": [
            "[1, 2, 3, 4, 5]\n"
          ]
        }
      ],
      "source": [
        "#Selection sort\n",
        "#In the selection sort we will select the item or value and swaps it inordered to sort\n",
        "\n",
        "#Select minimum\n",
        "\n",
        "def selection_sort(arr, n):\n",
        "    for i in range(n):\n",
        "        mini = i\n",
        "        for j in range(i+1, n):\n",
        "            if arr[j] < arr[mini]:\n",
        "                mini = j\n",
        "        arr[i], arr[mini] = arr[mini], arr[i]\n",
        "    return arr\n",
        "\n",
        "arr = [1, 3, 2, 5, 4]\n",
        "n = len(arr)\n",
        "print(selection_sort(arr, n))\n"
      ]
    },
    {
      "cell_type": "code",
      "source": [
        "#bubble sort\n",
        "\n",
        "#Push the max to the last by adjacent swaps\n",
        "\n",
        "def bubble_sort(arr, n):\n",
        "    for i in range(n):\n",
        "        for j in range(0, n - i - 1):\n",
        "            if arr[j] > arr[j + 1]:\n",
        "                arr[j], arr[j + 1] = arr[j + 1], arr[j]\n",
        "    return arr\n",
        "\n",
        "\n",
        "arr = [1, 3, 2, 5, 4]\n",
        "n = len(arr)\n",
        "print(bubble_sort(arr, n))"
      ],
      "metadata": {
        "colab": {
          "base_uri": "https://localhost:8080/"
        },
        "id": "2MkOfhLms7sN",
        "outputId": "10dcdd12-4d4f-401f-febf-efd5fefa0e1b"
      },
      "execution_count": null,
      "outputs": [
        {
          "output_type": "stream",
          "name": "stdout",
          "text": [
            "[1, 2, 3, 4, 5]\n"
          ]
        }
      ]
    },
    {
      "cell_type": "code",
      "source": [
        "#insertion Sort\n",
        "#takes an Element & place it in correct order\n",
        "def insertion_sort(arr, n):\n",
        "    for i in range(1, n):\n",
        "        key = arr[i]\n",
        "        j = i - 1\n",
        "\n",
        "        # Move elements greater than key to one position ahead\n",
        "        while j >= 0 and arr[j] > key:\n",
        "            arr[j + 1] = arr[j]\n",
        "            j -= 1\n",
        "\n",
        "        arr[j + 1] = key  # Place the key at its correct position\n",
        "    return arr\n",
        "\n",
        "# Test\n",
        "arr = [1, 3, 2, 5, 4]\n",
        "n = len(arr)\n",
        "print(insertion_sort(arr, n))\n"
      ],
      "metadata": {
        "colab": {
          "base_uri": "https://localhost:8080/"
        },
        "id": "QoV6bFPL1bsD",
        "outputId": "62f46214-c357-4f91-d713-64afed81bfa8"
      },
      "execution_count": null,
      "outputs": [
        {
          "output_type": "stream",
          "name": "stdout",
          "text": [
            "[1, 2, 3, 4, 5]\n"
          ]
        }
      ]
    },
    {
      "cell_type": "code",
      "source": [
        "#k smallest in array\n",
        "def selection_sort(arr, n):\n",
        "    for i in range(n):\n",
        "        mini = i\n",
        "        for j in range(i+1, n):\n",
        "            if arr[j] < arr[mini]:  # Use mini not min\n",
        "                mini = j\n",
        "        arr[i], arr[mini] = arr[mini], arr[i]  # Swap after inner loop\n",
        "    return arr\n",
        "\n",
        "arr = [7, 10, 4, 3, 20, 15]  # Removed the comma\n",
        "n = len(arr)\n",
        "sorted_arr = selection_sort(arr, n)\n",
        "print(\"Sorted array:\", sorted_arr)\n",
        "\n",
        "# Get the k-th smallest\n",
        "k = 3\n",
        "print(f\"{k}th smallest element is:\", sorted_arr[k-1])\n"
      ],
      "metadata": {
        "colab": {
          "base_uri": "https://localhost:8080/"
        },
        "id": "78zkjJ8KYNx-",
        "outputId": "2ec152e4-f940-407f-a9c8-8a119e52b405"
      },
      "execution_count": null,
      "outputs": [
        {
          "output_type": "stream",
          "name": "stdout",
          "text": [
            "Sorted array: [3, 4, 7, 10, 15, 20]\n",
            "3th smallest element is: 7\n"
          ]
        }
      ]
    },
    {
      "cell_type": "markdown",
      "source": [
        "# Some problems using the hashing and sorting"
      ],
      "metadata": {
        "id": "kJ-evjr9sK5W"
      }
    },
    {
      "cell_type": "code",
      "source": [
        "#Sort Characters By Frequency (Leetcode 451)\n",
        "arr = \"tree\"\n",
        "\n",
        "# Step 1: Count frequency\n",
        "freq = {}\n",
        "for num in arr:\n",
        "    if num in freq:\n",
        "        freq[num] += 1\n",
        "    else:\n",
        "        freq[num] = 1\n",
        "\n",
        "# Step 2: Sort unique elements by frequency (descending)\n",
        "unique_elements = list(freq.keys())\n",
        "for i in range(len(unique_elements)):\n",
        "    for j in range(i + 1, len(unique_elements)):\n",
        "        if freq[unique_elements[i]] < freq[unique_elements[j]]:\n",
        "            unique_elements[i], unique_elements[j] = unique_elements[j], unique_elements[i]\n",
        "print(unique_elements)\n",
        "# Step 3: Rebuild result array\n",
        "sorted_arr = []\n",
        "for key in unique_elements:\n",
        "    sorted_arr.extend([key] * freq[key])\n",
        "\n",
        "print(sorted_arr)\n",
        "\n",
        "result = ''.join(sorted_arr)\n",
        "print(result)\n"
      ],
      "metadata": {
        "colab": {
          "base_uri": "https://localhost:8080/"
        },
        "id": "f14B8fAOcbGp",
        "outputId": "fa288ee0-b7fb-4ab4-963c-b79798113db6"
      },
      "execution_count": null,
      "outputs": [
        {
          "output_type": "stream",
          "name": "stdout",
          "text": [
            "['e', 'r', 't']\n",
            "['e', 'e', 'r', 't']\n",
            "eert\n"
          ]
        }
      ]
    },
    {
      "cell_type": "code",
      "source": [
        "arr=[]\n",
        "key=1\n",
        "val=3\n",
        "arr.extend([key] * val)\n",
        "print(arr)"
      ],
      "metadata": {
        "colab": {
          "base_uri": "https://localhost:8080/"
        },
        "id": "b8c3IzUip3Zk",
        "outputId": "8b68ccd2-179e-4c9b-fe3d-9712acbd753c"
      },
      "execution_count": null,
      "outputs": [
        {
          "output_type": "stream",
          "name": "stdout",
          "text": [
            "[1, 1, 1]\n"
          ]
        }
      ]
    },
    {
      "cell_type": "code",
      "source": [
        "#find all duplicates\n",
        "\n",
        "arr=[4,3,2,7,8,2,3,1]\n",
        "duplicates_arr=[]\n",
        "\n",
        "freq={}\n",
        "\n",
        "for i in arr:\n",
        "  if i in freq:\n",
        "    freq[i]+=1\n",
        "  else:freq[i]=1\n",
        "print(freq)\n",
        "for key in freq:\n",
        "  if freq[key]>1:\n",
        "    duplicates_arr.append(key)\n",
        "print(duplicates_arr)"
      ],
      "metadata": {
        "colab": {
          "base_uri": "https://localhost:8080/"
        },
        "id": "SN5txV4ih15G",
        "outputId": "62d5a03e-2375-4619-e23f-ea2fc304ed64"
      },
      "execution_count": null,
      "outputs": [
        {
          "output_type": "stream",
          "name": "stdout",
          "text": [
            "{4: 1, 3: 2, 2: 2, 7: 1, 8: 1, 1: 1}\n",
            "[3, 2]\n"
          ]
        }
      ]
    },
    {
      "cell_type": "code",
      "source": [
        "#check if 2 arrays are equal\n",
        "\n",
        "arr1 = [1, 2, 5, 4]\n",
        "arr2 = [2, 1, 4, 5]\n",
        "\n",
        "freq1={}\n",
        "freq2={}\n",
        "\n",
        "for nums in arr1:\n",
        "    if nums in freq1:\n",
        "        freq1[nums]+=1\n",
        "    else:\n",
        "        freq1[nums]=1\n",
        "\n",
        "for nums in arr2:\n",
        "    if nums in freq2:\n",
        "        freq2[nums]+=1\n",
        "    else:\n",
        "        freq2[nums]=1\n",
        "print(freq1,freq2)\n",
        "\n",
        "if freq1==freq2:\n",
        "    print(\"Equal\")\n",
        "else:\n",
        "    print(\"Not Equal\")"
      ],
      "metadata": {
        "colab": {
          "base_uri": "https://localhost:8080/"
        },
        "id": "zp37PO1TkNXM",
        "outputId": "52b896d0-d87c-4e41-cfec-0d972c635d8d"
      },
      "execution_count": null,
      "outputs": [
        {
          "output_type": "stream",
          "name": "stdout",
          "text": [
            "{1: 1, 2: 1, 5: 1, 4: 1} {2: 1, 1: 1, 4: 1, 5: 1}\n",
            "Equal\n"
          ]
        }
      ]
    },
    {
      "cell_type": "code",
      "source": [
        "def insertion_sort(arr):\n",
        "    n = len(arr)\n",
        "    for i in range(1, n):\n",
        "        key = arr[i]  # element to insert\n",
        "        j = i - 1\n",
        "\n",
        "        # Move elements of arr[0..i-1], that are greater than key, to one position ahead\n",
        "        while j >= 0 and arr[j] > key:\n",
        "            arr[j + 1] = arr[j]  # shift right\n",
        "            j -= 1\n",
        "\n",
        "        arr[j + 1] = key  # insert key at correct position\n",
        "\n",
        "    return arr\n",
        "\n",
        "# Test it\n",
        "arr = [5, 3, 8, 6, 2]\n",
        "print(insertion_sort(arr))\n"
      ],
      "metadata": {
        "colab": {
          "base_uri": "https://localhost:8080/"
        },
        "id": "W5h4yW0humfA",
        "outputId": "526ca4d1-bff8-4991-fd50-7c9508af2018"
      },
      "execution_count": null,
      "outputs": [
        {
          "output_type": "stream",
          "name": "stdout",
          "text": [
            "[2, 3, 5, 6, 8]\n"
          ]
        }
      ]
    },
    {
      "cell_type": "code",
      "source": [
        "#merge Sort\n",
        "def merge_sort(arr):\n",
        "    if len(arr) <= 1:\n",
        "        return arr  # base case\n",
        "\n",
        "    mid = len(arr) // 2\n",
        "\n",
        "    # Divide\n",
        "    left_half = merge_sort(arr[:mid])\n",
        "    right_half = merge_sort(arr[mid:])\n",
        "\n",
        "    # Merge\n",
        "    return merge(left_half, right_half)\n",
        "\n",
        "def merge(left, right):\n",
        "    merged = []\n",
        "    i = j = 0\n",
        "\n",
        "    # Compare elements from both halves and merge them in sorted order\n",
        "    while i < len(left) and j < len(right):\n",
        "        if left[i] < right[j]:\n",
        "            merged.append(left[i])\n",
        "            i += 1\n",
        "        else:\n",
        "            merged.append(right[j])\n",
        "            j += 1\n",
        "\n",
        "    # Append any remaining elements from both halves\n",
        "    merged.extend(left[i:])\n",
        "    merged.extend(right[j:])\n",
        "\n",
        "    return merged\n",
        "\n",
        "# Test\n",
        "arr = [5, 2, 4, 1, 3]\n",
        "print(\"Sorted:\", merge_sort(arr))\n"
      ],
      "metadata": {
        "colab": {
          "base_uri": "https://localhost:8080/"
        },
        "id": "Tt3RaCBS4i3I",
        "outputId": "62d80000-2be5-492b-cdef-89ac9f70505c"
      },
      "execution_count": 1,
      "outputs": [
        {
          "output_type": "stream",
          "name": "stdout",
          "text": [
            "Sorted: [1, 2, 3, 4, 5]\n"
          ]
        }
      ]
    }
  ]
}