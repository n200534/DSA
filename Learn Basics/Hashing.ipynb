{
  "nbformat": 4,
  "nbformat_minor": 0,
  "metadata": {
    "colab": {
      "provenance": []
    },
    "kernelspec": {
      "name": "python3",
      "display_name": "Python 3"
    },
    "language_info": {
      "name": "python"
    }
  },
  "cells": [
    {
      "cell_type": "code",
      "execution_count": 6,
      "metadata": {
        "id": "5yG1HwXLfSY9",
        "colab": {
          "base_uri": "https://localhost:8080/"
        },
        "outputId": "90e0509a-e376-492c-8484-12123b131066"
      },
      "outputs": [
        {
          "output_type": "stream",
          "name": "stdout",
          "text": [
            "{1: 3, 2: 2, 3: 1, 4: 1, 5: 1}\n",
            "1 3\n",
            "3 1\n"
          ]
        }
      ],
      "source": [
        "#hashing  is a technique used to mapdata of arbitary size to fixed size values usiing the hash fuunction\n",
        "\n",
        "#we use dict in python to easy implementation of hashing\n",
        "\n",
        "#count frequency in array\n",
        "\n",
        "arr=[1,2,1,1,3,4,5,2]\n",
        "freq={} #dictionary\n",
        "for num in arr:\n",
        "  if num in freq:\n",
        "    freq[num]=freq[num]+1\n",
        "  else:\n",
        "    freq[num]=1\n",
        "print(freq)\n",
        "\n",
        "\n",
        "# for finding the maximum and minimun frequency\n",
        "max_freq=0\n",
        "max_element=None\n",
        "min_freq=float('inf')\n",
        "min_element=None\n",
        "for key in freq:\n",
        "  if freq[key]>max_freq:\n",
        "    max_freq=freq[key]\n",
        "    max_element=key\n",
        "  if freq[key]<min_freq:\n",
        "    min_freq=freq[key]\n",
        "    min_element=key\n",
        "print(max_element,max_freq)\n",
        "print(min_element,min_freq)\n"
      ]
    },
    {
      "cell_type": "code",
      "source": [
        "freq={1: 2, 2: 2, 3: 1, 4: 1, 5: 1}\n",
        "for key in freq:\n",
        "  print(freq[key])"
      ],
      "metadata": {
        "colab": {
          "base_uri": "https://localhost:8080/"
        },
        "id": "P6sARwGXrqRW",
        "outputId": "f02beb5f-925d-453a-8589-70bc9d75e057"
      },
      "execution_count": 2,
      "outputs": [
        {
          "output_type": "stream",
          "name": "stdout",
          "text": [
            "2\n",
            "2\n",
            "1\n",
            "1\n",
            "1\n"
          ]
        }
      ]
    },
    {
      "cell_type": "markdown",
      "source": [
        "# **Hashing using Dict**\n",
        "\n",
        "\n",
        "*   frequency counter\n",
        "*   Hash Map Lookup\n",
        "\n",
        "*   Index Tracking\n",
        "*   Two Sum / Pair Matching\n",
        "\n",
        "\n",
        "*   Grouping by Value\n",
        "*   Custom Key Mapping / Transformation\n",
        "\n",
        "\n",
        "*   Sliding Window with Hashing\n",
        "\n",
        "\n",
        "\n",
        "\n",
        "\n",
        "\n",
        "\n",
        "\n"
      ],
      "metadata": {
        "id": "I55KL8Smv8L1"
      }
    },
    {
      "cell_type": "code",
      "source": [
        "#first index Tracking\n",
        "\n",
        "#we check for the first  appearance of element in the arr\n",
        "\n",
        "arr=[1,2,5,2,6,7]\n",
        "\n",
        "index={} #hashmap\n",
        "\n",
        "for i,values in enumerate(arr):\n",
        "  if values not in index:\n",
        "    index[values]=i\n",
        "print(index)"
      ],
      "metadata": {
        "colab": {
          "base_uri": "https://localhost:8080/"
        },
        "id": "bNnJaD9ltClC",
        "outputId": "c1343f1e-431f-4418-d5a1-41c4023dd329"
      },
      "execution_count": 8,
      "outputs": [
        {
          "output_type": "stream",
          "name": "stdout",
          "text": [
            "{1: 0, 2: 1, 5: 2, 6: 4, 7: 5}\n"
          ]
        }
      ]
    },
    {
      "cell_type": "code",
      "source": [
        "#pair matching or 2 sum\n",
        "\n",
        "def func(arr,target):\n",
        "  hashmap={}\n",
        "  for i,num in enumerate(arr):\n",
        "    diff=target-num\n",
        "    if diff in hashmap:\n",
        "      return [hashmap[diff],i]\n",
        "    hashmap[diff]=i\n",
        "\n",
        "print(func([1,2,5,2,6,7],9))"
      ],
      "metadata": {
        "colab": {
          "base_uri": "https://localhost:8080/"
        },
        "id": "fJi6HNAWzTQE",
        "outputId": "0b3e053b-5476-479a-f4c2-bf4378063b41"
      },
      "execution_count": 11,
      "outputs": [
        {
          "output_type": "stream",
          "name": "stdout",
          "text": [
            "[1, 3]\n"
          ]
        }
      ]
    },
    {
      "cell_type": "code",
      "source": [
        "#grouping elements\n",
        "\n",
        "group={}\n",
        "words=['eat','tea','tan','ate','nat','bat',\"abhi\",'akshay','amma']\n",
        "for word in words:\n",
        "  l=len(word)\n",
        "  if l in group:\n",
        "    group[l].append(word)\n",
        "  else:\n",
        "    group[l]=[word]\n",
        "print(group)"
      ],
      "metadata": {
        "colab": {
          "base_uri": "https://localhost:8080/"
        },
        "id": "rRU3jAQv03hA",
        "outputId": "b8047cf8-48d4-49ed-debb-d49e741f0a1e"
      },
      "execution_count": 12,
      "outputs": [
        {
          "output_type": "stream",
          "name": "stdout",
          "text": [
            "{3: ['eat', 'tea', 'tan', 'ate', 'nat', 'bat'], 4: ['abhi', 'amma'], 6: ['akshay']}\n"
          ]
        }
      ]
    },
    {
      "cell_type": "markdown",
      "source": [
        "# **Hashing using the set**\n",
        "\n",
        "\n",
        "*   List item\n",
        "*   List item\n",
        "\n"
      ],
      "metadata": {
        "id": "hdkqqbaN304D"
      }
    },
    {
      "cell_type": "code",
      "source": [
        "#detects the duplicates in array\n",
        "\n",
        "def func(arr):\n",
        "  hashset=set()\n",
        "  for num in arr:\n",
        "    if num in hashset:\n",
        "      return True\n",
        "    hashset.add(num)\n",
        "  return False\n",
        "print(func([1,2,5,2,6,7]))\n",
        "\n"
      ],
      "metadata": {
        "colab": {
          "base_uri": "https://localhost:8080/"
        },
        "id": "mAyoDraa4KGE",
        "outputId": "c3d45220-891f-4661-9996-0891569cfb8c"
      },
      "execution_count": 17,
      "outputs": [
        {
          "output_type": "stream",
          "name": "stdout",
          "text": [
            "True\n"
          ]
        }
      ]
    },
    {
      "cell_type": "code",
      "source": [
        "#find the intersection\n",
        "\n",
        "def intersection(a,b):\n",
        "  hash_map=set()\n",
        "  for num in a:\n",
        "    hash_map.add(num)\n",
        "  result=[]\n",
        "  for num in b:\n",
        "    if num in hash_map:\n",
        "      result.append(num)\n",
        "      hash_map.remove(num)\n",
        "  return result\n",
        "\n",
        "print(intersection([1,2,3,4,5],[2,3,5,7,8]))"
      ],
      "metadata": {
        "colab": {
          "base_uri": "https://localhost:8080/"
        },
        "id": "uCihtUHM4V5Z",
        "outputId": "eb1634bf-7041-41c8-ebfe-b34b3c11dfe3"
      },
      "execution_count": 21,
      "outputs": [
        {
          "output_type": "stream",
          "name": "stdout",
          "text": [
            "[2, 3, 5]\n"
          ]
        }
      ]
    },
    {
      "cell_type": "code",
      "source": [
        "#union\n",
        "\n",
        "def union(a,b):\n",
        "  hash_map=set()\n",
        "  for num in a:\n",
        "    hash_map.add(num)\n",
        "  for num in b:\n",
        "    if num not in hash_map:\n",
        "      hash_map.add(num)\n",
        "  return hash_map\n",
        "\n",
        "print(union([1,2,3,4,5],[2,3,5,7,8]))"
      ],
      "metadata": {
        "colab": {
          "base_uri": "https://localhost:8080/"
        },
        "id": "4J8IeUPE6Shi",
        "outputId": "78a530d1-fc74-4eba-9d0c-864fc2426fe0"
      },
      "execution_count": 23,
      "outputs": [
        {
          "output_type": "stream",
          "name": "stdout",
          "text": [
            "{1, 2, 3, 4, 5, 7, 8}\n"
          ]
        }
      ]
    },
    {
      "cell_type": "code",
      "source": [
        "#remove duplicates in array\n",
        "\n",
        "def remove_duplicates(arr):\n",
        "  hash_map=set()\n",
        "  for num in arr:\n",
        "    hash_map.add(num)\n",
        "  return list(hash_map)\n",
        "\n",
        "print(remove_duplicates([1,2,3,4,5,2,3,5,7,8]))"
      ],
      "metadata": {
        "colab": {
          "base_uri": "https://localhost:8080/"
        },
        "id": "05gz3Gvk7PEO",
        "outputId": "64df955a-b7c7-4566-f858-11dc79b24c18"
      },
      "execution_count": 25,
      "outputs": [
        {
          "output_type": "stream",
          "name": "stdout",
          "text": [
            "[1, 2, 3, 4, 5, 7, 8]\n"
          ]
        }
      ]
    },
    {
      "cell_type": "code",
      "source": [
        "#most frequent with tie breaker condition\n",
        "\n",
        "arr = [4, 5, 1, 2, 2, 4, 4, 5, 5]\n",
        "freq = {}\n",
        "max_freq = 0\n",
        "max_element = None\n",
        "\n",
        "# Frequency count\n",
        "for num in arr:\n",
        "    if num in freq:\n",
        "        freq[num] += 1\n",
        "    else:\n",
        "        freq[num] = 1\n",
        "\n",
        "# Check max frequency with tie breaker (first appeared)\n",
        "for num in arr:\n",
        "    if freq[num] > max_freq:\n",
        "        max_freq = freq[num]\n",
        "        max_element = num\n",
        "\n",
        "print(f\"The element {max_element} repeated {max_freq} times\")\n",
        "\n",
        "\n",
        "\n"
      ],
      "metadata": {
        "colab": {
          "base_uri": "https://localhost:8080/"
        },
        "id": "ZhgKBNiH_N7K",
        "outputId": "5babd132-4893-4e2e-993d-5084bc762a5a"
      },
      "execution_count": 31,
      "outputs": [
        {
          "output_type": "stream",
          "name": "stdout",
          "text": [
            "The element 4 repeated 3 times\n"
          ]
        }
      ]
    }
  ]
}