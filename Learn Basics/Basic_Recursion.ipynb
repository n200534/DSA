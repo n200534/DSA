{
  "nbformat": 4,
  "nbformat_minor": 0,
  "metadata": {
    "colab": {
      "provenance": []
    },
    "kernelspec": {
      "name": "python3",
      "display_name": "Python 3"
    },
    "language_info": {
      "name": "python"
    }
  },
  "cells": [
    {
      "cell_type": "code",
      "execution_count": 6,
      "metadata": {
        "colab": {
          "base_uri": "https://localhost:8080/"
        },
        "id": "nRpBPbmKH7hT",
        "outputId": "03707352-00b0-4a3b-d731-b67f9c736d40"
      },
      "outputs": [
        {
          "output_type": "stream",
          "name": "stdout",
          "text": [
            "enter nameabhi\n",
            "enter the numer of times to be printed 3\n",
            "abhi\n",
            "abhi\n",
            "abhi\n"
          ]
        }
      ],
      "source": [
        "#lets learn about the basic recursion\n",
        "\n",
        "#print the name N times using Recursion\n",
        "name=input(\"enter name\")\n",
        "n=int(input(\"enter the numer of times to be printed \"))\n",
        "def print_name(name,n):\n",
        "  print(name)\n",
        "  if n==1:\n",
        "    return\n",
        "  print_name(name,n-1)\n",
        "print_name(name,n)\n",
        "#time complexity :O(N)"
      ]
    },
    {
      "cell_type": "code",
      "source": [
        "#print the N numbers using recursion\n",
        "n=int(input(\"enter number\"))\n",
        "\n",
        "def print_numbers(n):\n",
        "  if n==0:\n",
        "    return\n",
        "  print_numbers(n-1)\n",
        "  print(n)\n",
        "print_numbers(n)"
      ],
      "metadata": {
        "colab": {
          "base_uri": "https://localhost:8080/"
        },
        "id": "6piNs7NUJeEU",
        "outputId": "e270ccf2-3907-48bc-f7e5-14b812d710d7"
      },
      "execution_count": 9,
      "outputs": [
        {
          "output_type": "stream",
          "name": "stdout",
          "text": [
            "enter number5\n",
            "1\n",
            "2\n",
            "3\n",
            "4\n",
            "5\n"
          ]
        }
      ]
    },
    {
      "cell_type": "code",
      "source": [
        "#print the N numbers in reverse using recursion\n",
        "def print_reverse(n):\n",
        "    if n == 0:\n",
        "        return\n",
        "    print(n)\n",
        "    print_reverse(n - 1)\n",
        "\n",
        "\n",
        "# Example usage\n",
        "n = int(input(\"Enter a number: \"))\n",
        "print_reverse(n)\n",
        "\n"
      ],
      "metadata": {
        "colab": {
          "base_uri": "https://localhost:8080/"
        },
        "id": "AYBusFEKL0f2",
        "outputId": "f61050ec-752f-4001-86a4-ea066827dc38"
      },
      "execution_count": 11,
      "outputs": [
        {
          "output_type": "stream",
          "name": "stdout",
          "text": [
            "Enter a number: 5\n",
            "5\n",
            "4\n",
            "3\n",
            "2\n",
            "1\n"
          ]
        }
      ]
    },
    {
      "cell_type": "code",
      "source": [
        "#sum of numbers using recursion\n",
        "def f(n):\n",
        "  if (n==0):\n",
        "    return 0\n",
        "  return n+ f(n-1)\n",
        "print(f(3))"
      ],
      "metadata": {
        "colab": {
          "base_uri": "https://localhost:8080/"
        },
        "id": "2VKnVoelmuJA",
        "outputId": "63b90fca-f15f-4022-d622-5164d32537f8"
      },
      "execution_count": 13,
      "outputs": [
        {
          "output_type": "stream",
          "name": "stdout",
          "text": [
            "6\n"
          ]
        }
      ]
    },
    {
      "cell_type": "code",
      "source": [
        "#factorail using the recursion\n",
        "n=int(input(\"enternumber\"))\n",
        "def f(n):\n",
        "  if(n==0):\n",
        "    return 1\n",
        "  return n*f(n-1)\n",
        "print(f(n))"
      ],
      "metadata": {
        "colab": {
          "base_uri": "https://localhost:8080/"
        },
        "id": "Jgt9SEY8o4Sc",
        "outputId": "8bcb0e48-7738-4b47-9de7-39db31607438"
      },
      "execution_count": 18,
      "outputs": [
        {
          "output_type": "stream",
          "name": "stdout",
          "text": [
            "enternumber3\n",
            "6\n"
          ]
        }
      ]
    },
    {
      "cell_type": "code",
      "source": [
        "def reverse_array(arr, start, end):\n",
        "    if start >= end:\n",
        "        return\n",
        "    # Swap elements\n",
        "    arr[start], arr[end] = arr[end], arr[start]\n",
        "    # Recursive call\n",
        "    reverse_array(arr, start + 1, end - 1)\n",
        "\n",
        "# Example usage\n",
        "arr = [1, 2, 3, 4, 5]\n",
        "reverse_array(arr, 0, len(arr) - 1)\n",
        "print(\"Reversed array:\", arr)\n"
      ],
      "metadata": {
        "colab": {
          "base_uri": "https://localhost:8080/"
        },
        "id": "NB_-LmxLqlhQ",
        "outputId": "7918eb85-06e9-4f79-e66d-3221797eb8e3"
      },
      "execution_count": 19,
      "outputs": [
        {
          "output_type": "stream",
          "name": "stdout",
          "text": [
            "Reversed array: [5, 4, 3, 2, 1]\n"
          ]
        }
      ]
    },
    {
      "cell_type": "code",
      "source": [
        "def is_palindrome(s):\n",
        "    # Base case: if the string is 0 or 1 character, it's a palindrome\n",
        "    if len(s) <= 1:\n",
        "        return True\n",
        "    # Check the first and last characters\n",
        "    if s[0] != s[-1]:\n",
        "        return False\n",
        "    # Recursive call on the substring excluding the first and last characters\n",
        "    return is_palindrome(s[1:-1])\n",
        "\n",
        "# Example usage\n",
        "string = \"madam\"\n",
        "if is_palindrome(string):\n",
        "    print(f\"'{string}' is a palindrome.\")\n",
        "else:\n",
        "    print(f\"'{string}' is not a palindrome.\")\n"
      ],
      "metadata": {
        "colab": {
          "base_uri": "https://localhost:8080/"
        },
        "id": "ZDWo5u2bvNfl",
        "outputId": "66ec8502-d15e-4c0e-b75e-def53e0aadbb"
      },
      "execution_count": 20,
      "outputs": [
        {
          "output_type": "stream",
          "name": "stdout",
          "text": [
            "'madam' is a palindrome.\n"
          ]
        }
      ]
    },
    {
      "cell_type": "code",
      "source": [
        "#fibonacci Numbers using the multiple recursion\n",
        "def fibonacci(n):\n",
        "    if n == 0:\n",
        "        return 0\n",
        "    elif n == 1:\n",
        "        return 1\n",
        "    return fibonacci(n - 1) + fibonacci(n - 2)\n",
        "\n",
        "# Print first n Fibonacci numbers\n",
        "n = int(input(\"Enter the number of terms: \"))\n",
        "for i in range(n):\n",
        "    print(fibonacci(i), end=\" \")\n"
      ],
      "metadata": {
        "id": "0Va5_2h9xsPF"
      },
      "execution_count": null,
      "outputs": []
    }
  ]
}