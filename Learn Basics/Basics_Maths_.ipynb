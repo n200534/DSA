{
  "nbformat": 4,
  "nbformat_minor": 0,
  "metadata": {
    "colab": {
      "provenance": []
    },
    "kernelspec": {
      "name": "python3",
      "display_name": "Python 3"
    },
    "language_info": {
      "name": "python"
    }
  },
  "cells": [
    {
      "cell_type": "code",
      "execution_count": 4,
      "metadata": {
        "colab": {
          "base_uri": "https://localhost:8080/"
        },
        "id": "2ivvhJnRCMCX",
        "outputId": "be2f4636-2641-4607-b1fe-53fa64349d14"
      },
      "outputs": [
        {
          "output_type": "stream",
          "name": "stdout",
          "text": [
            "4\n"
          ]
        }
      ],
      "source": [
        "#counting the Digits\n",
        "count=0\n",
        "n=7789\n",
        "while (n>0):\n",
        "  n//=10\n",
        "  count+=1\n",
        "print(count)"
      ]
    },
    {
      "cell_type": "code",
      "source": [
        "#Reverse a Number\n",
        "n=int(input(\"Please enter a number\"))\n",
        "reverse_num=0\n",
        "sign=-1 if(n<0) else 1\n",
        "n=abs(n)\n",
        "\n",
        "while(n>0):\n",
        "  last_digit=n%10\n",
        "  reverse_num=(reverse_num*10)+last_digit\n",
        "  n=n//10\n",
        "print(reverse_num*sign)\n"
      ],
      "metadata": {
        "colab": {
          "base_uri": "https://localhost:8080/"
        },
        "id": "BDNRiED_JEah",
        "outputId": "429be927-d801-4d13-a803-fcc4c3aebbde"
      },
      "execution_count": 10,
      "outputs": [
        {
          "output_type": "stream",
          "name": "stdout",
          "text": [
            "Please enter a number-43\n",
            "-34\n"
          ]
        }
      ]
    },
    {
      "cell_type": "code",
      "source": [
        "#Check the palindrome or not\n",
        "n=int(input(\"Enter A number\"))\n",
        "duplicate=n\n",
        "reverse_num=0\n",
        "while(n>0):\n",
        "  last_digit=n%10\n",
        "  reverse_num=(reverse_num*10)+last_digit\n",
        "  n=n//10\n",
        "if reverse_num==duplicate:\n",
        "  print(\"Palindrome\")\n",
        "else:\n",
        "  print(\"Not Palindrome\")"
      ],
      "metadata": {
        "colab": {
          "base_uri": "https://localhost:8080/"
        },
        "id": "JmZCSa0VJdth",
        "outputId": "dbac72b4-6bb0-4b83-ae84-5d437717fb58"
      },
      "execution_count": 12,
      "outputs": [
        {
          "output_type": "stream",
          "name": "stdout",
          "text": [
            "Enter A number121\n",
            "Palindrome\n"
          ]
        }
      ]
    },
    {
      "cell_type": "code",
      "source": [
        "#Armstrong Numbers\n",
        "\n",
        "sum=0\n",
        "n=int(input(\"Enter a number\"))\n",
        "duplicate=n\n",
        "while(n>0):\n",
        "  ld=n%10\n",
        "  sum=sum+(ld**3)\n",
        "  n=n//10\n",
        "if sum==duplicate:\n",
        "  print(\"Armstrong\")\n",
        "else:\n",
        "  print(\"Not Armstrong\")"
      ],
      "metadata": {
        "colab": {
          "base_uri": "https://localhost:8080/"
        },
        "id": "C6mFzpyrQiNg",
        "outputId": "e0b66365-ea6e-46fa-ac91-6032ac2bcd0f"
      },
      "execution_count": 13,
      "outputs": [
        {
          "output_type": "stream",
          "name": "stdout",
          "text": [
            "Enter a number371\n",
            "Armstrong\n"
          ]
        }
      ]
    },
    {
      "cell_type": "code",
      "source": [
        "#print all Divisors\n",
        "n=int(input(\"Enter the Number\"))\n",
        "for i in range(1,n+1):\n",
        "  if(n%i==0):\n",
        "    print(i)\n"
      ],
      "metadata": {
        "colab": {
          "base_uri": "https://localhost:8080/"
        },
        "id": "OtSCJt8YRE5A",
        "outputId": "1d08ac11-66ce-4959-c8e0-327e981dd4d2"
      },
      "execution_count": 15,
      "outputs": [
        {
          "output_type": "stream",
          "name": "stdout",
          "text": [
            "Enter the Number36\n",
            "1\n",
            "2\n",
            "3\n",
            "4\n",
            "6\n",
            "9\n",
            "12\n",
            "18\n",
            "36\n"
          ]
        }
      ]
    },
    {
      "cell_type": "code",
      "source": [
        "#prime Number\n",
        "import math\n",
        "\n",
        "def is_prime(n):\n",
        "    if n <= 1:\n",
        "        return False\n",
        "    for i in range(2, int(math.sqrt(n)) + 1):\n",
        "        if n % i == 0:\n",
        "            return False\n",
        "    return True\n",
        "\n",
        "# Example usage\n",
        "num = int(input(\"Enter a number: \"))\n",
        "if is_prime(num):\n",
        "    print(\"Prime Number\")\n",
        "else:\n",
        "    print(\"Not a Prime Number\")\n"
      ],
      "metadata": {
        "id": "FLgp7VemSNYZ"
      },
      "execution_count": null,
      "outputs": []
    },
    {
      "cell_type": "code",
      "source": [
        "from binascii import a2b_base64\n",
        "from re import A\n",
        "#GCD and HCF\n",
        "a=20\n",
        "b=40\n",
        "while(a>0 and b>0):\n",
        "  if (a>b):\n",
        "    a=a%b\n",
        "  else: b=b%a\n",
        "  if a==0:\n",
        "    print(b)\n",
        "  else:\n",
        "    print(a)\n",
        "\n",
        "#this is method using the Euclidian Algorithm, which states ```gcd(a,b)=gcd(a%b,b) a>b if one them is zero another will be gcd ```\n"
      ],
      "metadata": {
        "colab": {
          "base_uri": "https://localhost:8080/"
        },
        "id": "jCaqzsxhZSf4",
        "outputId": "320374d1-d4d0-4548-fbc3-80780a4e7aee"
      },
      "execution_count": 16,
      "outputs": [
        {
          "output_type": "stream",
          "name": "stdout",
          "text": [
            "20\n"
          ]
        }
      ]
    }
  ]
}