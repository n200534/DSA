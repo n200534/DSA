{
  "nbformat": 4,
  "nbformat_minor": 0,
  "metadata": {
    "colab": {
      "provenance": [],
      "authorship_tag": "ABX9TyMogRj5k+9ExeSbNQq4Wd7R",
      "include_colab_link": true
    },
    "kernelspec": {
      "name": "python3",
      "display_name": "Python 3"
    },
    "language_info": {
      "name": "python"
    }
  },
  "cells": [
    {
      "cell_type": "markdown",
      "metadata": {
        "id": "view-in-github",
        "colab_type": "text"
      },
      "source": [
        "<a href=\"https://colab.research.google.com/github/n200534/DSA/blob/main/Patterns.ipynb\" target=\"_parent\"><img src=\"https://colab.research.google.com/assets/colab-badge.svg\" alt=\"Open In Colab\"/></a>"
      ]
    },
    {
      "cell_type": "code",
      "execution_count": null,
      "metadata": {
        "colab": {
          "base_uri": "https://localhost:8080/"
        },
        "id": "Ns88PTmrJ_rh",
        "outputId": "b70d1304-9d48-41be-d009-f4094809a683"
      },
      "outputs": [
        {
          "output_type": "stream",
          "name": "stdout",
          "text": [
            "red apple\n",
            "red cheery\n",
            "red banana\n",
            "big apple\n",
            "big cheery\n",
            "big banana\n",
            "tasty apple\n",
            "tasty cheery\n",
            "tasty banana\n"
          ]
        }
      ],
      "source": [
        "adj=[\"red\",\"big\",\"tasty\"]\n",
        "fruits=[\"apple\",\"cheery\",\"banana\"]\n",
        "for x in adj:\n",
        "  for y in fruits:\n",
        "    print(x,y)"
      ]
    },
    {
      "cell_type": "code",
      "source": [
        "n=10\n",
        "for i in range(n):\n",
        "  for j in range(i):\n",
        "    print(\"* \",end=\"\")\n",
        "  print(\"\")"
      ],
      "metadata": {
        "colab": {
          "base_uri": "https://localhost:8080/"
        },
        "id": "Ka43bIOALgtQ",
        "outputId": "11ca3402-30d6-48d5-afbd-d1e695addbe8"
      },
      "execution_count": null,
      "outputs": [
        {
          "output_type": "stream",
          "name": "stdout",
          "text": [
            "\n",
            "* \n",
            "* * \n",
            "* * * \n",
            "* * * * \n",
            "* * * * * \n",
            "* * * * * * \n",
            "* * * * * * * \n",
            "* * * * * * * * \n",
            "* * * * * * * * * \n"
          ]
        }
      ]
    },
    {
      "cell_type": "code",
      "source": [
        "n=5\n",
        "for i in range(1,n):\n",
        "  for j in range(1,i):\n",
        "    print(j,end=\"\")\n",
        "  print()"
      ],
      "metadata": {
        "colab": {
          "base_uri": "https://localhost:8080/"
        },
        "id": "qaND6lQUN2Aq",
        "outputId": "fcde7635-5563-40e6-ba8c-440adb5b8a99"
      },
      "execution_count": null,
      "outputs": [
        {
          "output_type": "stream",
          "name": "stdout",
          "text": [
            "\n",
            "1\n",
            "12\n",
            "123\n"
          ]
        }
      ]
    },
    {
      "cell_type": "code",
      "source": [
        "for i in range(5):\n",
        "  for j in range(5-i):\n",
        "    print(\"*\",end=\"\")\n",
        "  print()"
      ],
      "metadata": {
        "id": "5gxMZ78ZRQvZ",
        "colab": {
          "base_uri": "https://localhost:8080/"
        },
        "outputId": "9897fef6-b514-4455-d22c-8cf59f389367"
      },
      "execution_count": null,
      "outputs": [
        {
          "output_type": "stream",
          "name": "stdout",
          "text": [
            "*****\n",
            "****\n",
            "***\n",
            "**\n",
            "*\n"
          ]
        }
      ]
    },
    {
      "cell_type": "code",
      "source": [
        "n=5\n",
        "for i in range(1,n):\n",
        "  for j in range(i):\n",
        "    print(i,end=\"\")\n",
        "  print()"
      ],
      "metadata": {
        "id": "b_gJJZdhP-SG",
        "colab": {
          "base_uri": "https://localhost:8080/"
        },
        "outputId": "758a256a-e2ae-487c-fc42-f730dc9e96bd"
      },
      "execution_count": null,
      "outputs": [
        {
          "output_type": "stream",
          "name": "stdout",
          "text": [
            "1\n",
            "22\n",
            "333\n",
            "4444\n"
          ]
        }
      ]
    },
    {
      "cell_type": "code",
      "source": [
        "for i in range(1,5):\n",
        "  for j in range(1,5-i+1):\n",
        "    print(j,end=\"\")\n",
        "  print()"
      ],
      "metadata": {
        "colab": {
          "base_uri": "https://localhost:8080/"
        },
        "id": "Ro-LnOGMU6BC",
        "outputId": "72eb499f-e55d-4f01-ca17-2185bbe32b00"
      },
      "execution_count": null,
      "outputs": [
        {
          "output_type": "stream",
          "name": "stdout",
          "text": [
            "1234\n",
            "123\n",
            "12\n",
            "1\n"
          ]
        }
      ]
    },
    {
      "cell_type": "code",
      "source": [
        "rows = 5\n",
        "for i in range(1, rows + 1):                     # Outer loop: row number\n",
        "    for space in range(rows - i):                # Print leading spaces\n",
        "        print(\" \", end=\"\")\n",
        "    for star in range(2 * i - 1):                # Print stars\n",
        "        print(\"*\", end=\"\")\n",
        "    print()                                      # Move to next line\n",
        "\n"
      ],
      "metadata": {
        "colab": {
          "base_uri": "https://localhost:8080/"
        },
        "id": "oq6OhE-EWu0O",
        "outputId": "ef3f307b-5c78-4972-cb06-446cf26b9c24"
      },
      "execution_count": null,
      "outputs": [
        {
          "output_type": "stream",
          "name": "stdout",
          "text": [
            "    *\n",
            "   ***\n",
            "  *****\n",
            " *******\n",
            "*********\n"
          ]
        }
      ]
    },
    {
      "cell_type": "code",
      "source": [
        "rows = 4\n",
        "for i in range(1, rows + 1):\n",
        "    for j in range(i):\n",
        "        # If (i + j) is even, print 1; else print 0\n",
        "        print((i + j) % 2, end=\"\")\n",
        "    print()\n"
      ],
      "metadata": {
        "colab": {
          "base_uri": "https://localhost:8080/"
        },
        "id": "P68xXt1UNNjw",
        "outputId": "b4b63601-7b5c-4920-8b25-f7ee42d6c91f"
      },
      "execution_count": 23,
      "outputs": [
        {
          "output_type": "stream",
          "name": "stdout",
          "text": [
            "1\n",
            "01\n",
            "101\n",
            "0101\n"
          ]
        }
      ]
    },
    {
      "cell_type": "code",
      "source": [
        "n = 3\n",
        "for i in range(1, n + 1):\n",
        "    # Print increasing numbers\n",
        "    for j in range(1, i + 1):\n",
        "        print(j, end=\"\")\n",
        "\n",
        "    # Print spaces\n",
        "    spaces = 2 * (n - i)\n",
        "    print(\" \" * spaces, end=\"\")\n",
        "\n",
        "    # Print decreasing numbers\n",
        "    for j in range(i, 0, -1):\n",
        "        print(j, end=\"\")\n",
        "\n",
        "    print()  # Move to next line\n"
      ],
      "metadata": {
        "colab": {
          "base_uri": "https://localhost:8080/"
        },
        "id": "YEDhdWkXQa8B",
        "outputId": "3dc7b0bb-8b46-403f-b142-3d1a3945f1d8"
      },
      "execution_count": 24,
      "outputs": [
        {
          "output_type": "stream",
          "name": "stdout",
          "text": [
            "1    1\n",
            "12  21\n",
            "123321\n"
          ]
        }
      ]
    },
    {
      "cell_type": "code",
      "source": [
        "n=5\n",
        "num=1\n",
        "for i in range(1,n+1):\n",
        "  for j in range(1,i+1):\n",
        "    print(num,end=\"\")\n",
        "    num+=1\n",
        "  print()\n"
      ],
      "metadata": {
        "colab": {
          "base_uri": "https://localhost:8080/"
        },
        "id": "UJDIpJmsSs4j",
        "outputId": "21e775f1-f631-4bdb-ae6b-1059949d91bc"
      },
      "execution_count": 28,
      "outputs": [
        {
          "output_type": "stream",
          "name": "stdout",
          "text": [
            "1\n",
            "23\n",
            "456\n",
            "78910\n",
            "1112131415\n"
          ]
        }
      ]
    },
    {
      "cell_type": "code",
      "source": [
        "for i in range(4):\n",
        "  for char in range(ord(\"A\"),ord(\"A\")+i+1):\n",
        "    print(chr(char),end=\"\")\n",
        "  print()"
      ],
      "metadata": {
        "colab": {
          "base_uri": "https://localhost:8080/"
        },
        "id": "fJCEBIKZTYzP",
        "outputId": "f5dac0f6-13f8-4415-daac-d736e956283c"
      },
      "execution_count": 29,
      "outputs": [
        {
          "output_type": "stream",
          "name": "stdout",
          "text": [
            "A\n",
            "AB\n",
            "ABC\n",
            "ABCD\n"
          ]
        }
      ]
    },
    {
      "cell_type": "code",
      "source": [
        "n = int(input(\"Enter starting number of letters (e.g., 4 for ABCD): \"))\n",
        "for i in range(0, n ):\n",
        "    for j in range(0, n - i):\n",
        "        print(chr(ord(\"A\")+ j), end=\"\")\n",
        "    print()\n"
      ],
      "metadata": {
        "colab": {
          "base_uri": "https://localhost:8080/"
        },
        "id": "BmnYbroUU2Qi",
        "outputId": "4d22ad6d-56d0-4c0b-d263-9dd0ec4683ef"
      },
      "execution_count": 37,
      "outputs": [
        {
          "output_type": "stream",
          "name": "stdout",
          "text": [
            "Enter starting number of letters (e.g., 4 for ABCD): 4\n",
            "ABCD\n",
            "ABC\n",
            "AB\n",
            "A\n"
          ]
        }
      ]
    },
    {
      "cell_type": "code",
      "source": [
        "for i in range(1,5):\n",
        "  for j in range(i):\n",
        "    print(chr(ord(\"A\")+i-1),end=\"\")\n",
        "  print()"
      ],
      "metadata": {
        "colab": {
          "base_uri": "https://localhost:8080/"
        },
        "id": "J_gKyRIjWlqT",
        "outputId": "9ed9415f-7306-442c-9164-0d3d6aaf3d3a"
      },
      "execution_count": 45,
      "outputs": [
        {
          "output_type": "stream",
          "name": "stdout",
          "text": [
            "A\n",
            "BB\n",
            "CCC\n",
            "DDDD\n"
          ]
        }
      ]
    },
    {
      "cell_type": "code",
      "source": [
        "n = 5\n",
        "for i in range(n):\n",
        "    # Left space\n",
        "    for j in range(1, n - i + 1):\n",
        "        print(\" \", end=\"\")\n",
        "\n",
        "    char = \"A\"\n",
        "    breakpoint = (2 * i + 1) // 2\n",
        "\n",
        "    for j in range(2 * i + 1):\n",
        "        print(char, end=\"\")\n",
        "\n",
        "        # Increment or decrement character\n",
        "        if j < breakpoint:\n",
        "            char = chr(ord(char) + 1)\n",
        "        else:\n",
        "            char = chr(ord(char) - 1)\n",
        "\n",
        "    # Right space (optional — not needed for pyramid shape)\n",
        "    for j in range(1, n - i + 1):\n",
        "        print(\" \", end=\"\")\n",
        "\n",
        "    print()\n"
      ],
      "metadata": {
        "colab": {
          "base_uri": "https://localhost:8080/"
        },
        "id": "BtPoX1NUYAF-",
        "outputId": "ccb0e55f-327c-4bba-f6a0-0233b333220a"
      },
      "execution_count": 56,
      "outputs": [
        {
          "output_type": "stream",
          "name": "stdout",
          "text": [
            "     A     \n",
            "    ABA    \n",
            "   ABCBA   \n",
            "  ABCDCBA  \n",
            " ABCDEDCBA \n"
          ]
        }
      ]
    },
    {
      "cell_type": "code",
      "source": [
        "n = 5\n",
        "for i in range(n):\n",
        "    start_char = ord('E') - i  # Starting character for the row\n",
        "    for j in range(i + 1):\n",
        "        print(chr(start_char + j), end=\"\")\n",
        "    print()\n"
      ],
      "metadata": {
        "colab": {
          "base_uri": "https://localhost:8080/"
        },
        "id": "M4xdpeHAeKgb",
        "outputId": "120279d3-45e0-4cd6-c71d-5927ee61aaa5"
      },
      "execution_count": 65,
      "outputs": [
        {
          "output_type": "stream",
          "name": "stdout",
          "text": [
            "E\n",
            "DE\n",
            "CDE\n",
            "BCDE\n",
            "ABCDE\n"
          ]
        }
      ]
    },
    {
      "cell_type": "code",
      "source": [
        "n=5\n",
        "init_space=0\n",
        "for i in range(n):\n",
        "  #stars\n",
        "  for j in range(1,n-i):\n",
        "    print(\"*\",end=\"\")\n",
        "  #spaces\n",
        "  for j in range(init_space):\n",
        "    print(\" \",end=\"\")\n",
        "\n",
        "\n",
        "\n",
        "  #stars\n",
        "  for j in range(1,n-i):\n",
        "    print(\"*\",end=\"\")\n",
        "  init_space+=2\n",
        "  print()\n",
        "init_space=8\n",
        "for i in range(1,n):\n",
        "    #stars\n",
        "  for j in range(1,i):\n",
        "    print(\"*\",end=\"\")\n",
        "  #spaces\n",
        "  for j in range(init_space):\n",
        "    print(\" \",end=\"\")\n",
        "\n",
        "\n",
        "\n",
        "  #stars\n",
        "  for j in range(1,i):\n",
        "    print(\"*\",end=\"\")\n",
        "  init_space-=2\n",
        "  print()\n"
      ],
      "metadata": {
        "colab": {
          "base_uri": "https://localhost:8080/"
        },
        "id": "GHoqNVV3gxPl",
        "outputId": "3d6fe1f8-b727-4c8f-9f97-557c4b39fe0a"
      },
      "execution_count": 73,
      "outputs": [
        {
          "output_type": "stream",
          "name": "stdout",
          "text": [
            "********\n",
            "***  ***\n",
            "**    **\n",
            "*      *\n",
            "        \n",
            "        \n",
            "*      *\n",
            "**    **\n",
            "***  ***\n"
          ]
        }
      ]
    },
    {
      "cell_type": "code",
      "source": [],
      "metadata": {
        "id": "tNFwrTjWjRZL"
      },
      "execution_count": null,
      "outputs": []
    }
  ]
}